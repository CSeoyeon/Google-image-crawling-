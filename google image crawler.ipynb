{
 "cells": [
  {
   "cell_type": "code",
   "execution_count": 17,
   "metadata": {},
   "outputs": [
    {
     "name": "stderr",
     "output_type": "stream",
     "text": [
      "<ipython-input-17-08a81de94ff2>:11: DeprecationWarning: executable_path has been deprecated, please pass in a Service object\n",
      "  driver = webdriver.Chrome(\"C:\\\\Users\\\\csy\\\\Desktop\\\\image crawling\\\\chromedriver_win32\\\\chromedriver.exe\")\n",
      "<ipython-input-17-08a81de94ff2>:17: DeprecationWarning: find_element_by_* commands are deprecated. Please use find_element() instead\n",
      "  elem = driver.find_element_by_name(\"q\")\n",
      "<ipython-input-17-08a81de94ff2>:40: DeprecationWarning: find_element_by_* commands are deprecated. Please use find_element() instead\n",
      "  driver.find_element_by_css_selector(\".mye4qd\").click()\n",
      "<ipython-input-17-08a81de94ff2>:54: DeprecationWarning: find_elements_by_* commands are deprecated. Please use find_elements() instead\n",
      "  images = driver.find_elements_by_css_selector(\".rg_i.Q4LuWd\")\n",
      "<ipython-input-17-08a81de94ff2>:65: DeprecationWarning: find_element_by_* commands are deprecated. Please use find_element() instead\n",
      "  imgUrl = driver.find_element_by_xpath('//*[@id=\"Sva75c\"]/div/div/div[3]/div[2]/c-wiz/div/div[1]/div[1]/div[2]/div[1]/a/img').get_attribute(\"src\")\n"
     ]
    }
   ],
   "source": [
    "#selenium 사전 설치 필수 (pip install selenium)\n",
    "from selenium import webdriver  \n",
    "from selenium.webdriver.common.keys import Keys\n",
    "import urllib.request\n",
    "from urllib.request import urlretrieve\n",
    "import time \n",
    "import os \n",
    "\n",
    "\n",
    "# 자기 크롬 버전과 맞는 드라이버 설치 후 chrome driver.exe 설치 경로\n",
    "driver = webdriver.Chrome(\"사용하는 크롬 버전과 일치하는 크롬 드라이러블 설치한 후 경로\") \n",
    "\n",
    "#구글 크롬 검색 url을 driver로 \n",
    "driver.get('http://www.google.co.kr/imghp?hl=ko')\n",
    "\n",
    "elem = driver.find_element_by_name(\"q\")\n",
    "\n",
    "#search keword 입력 \n",
    "keyword = input(\"검색할 단어 입력: \")\n",
    "keywordNumber = input(\"다운 받을 이미지 개수:\")\n",
    "\n",
    "elem.send_keys(keyword)\n",
    "elem.send_keys(Keys.RETURN)\n",
    "\n",
    "\n",
    "    \n",
    "# 브라우저 높이 찾기 \n",
    "last_height = driver.execute_script(\"return document.body.scrollHeight\") \n",
    "while True:\n",
    "    # 스크롤 끝까지 내림 \n",
    "    driver.execute_script(\"window.scrollTo(0, document.body.scrollHeight);\")  \n",
    "\n",
    "    # 페이지 로드 기다림 \n",
    "    time.sleep(1)\n",
    "\n",
    "    # 스크롤 높이 계산\n",
    "    new_height = driver.execute_script(\"return document.body.scrollHeight\")\n",
    "    if new_height == last_height:\n",
    "        try:\n",
    "            driver.find_element_by_css_selector(\".mye4qd\").click()\n",
    "        except:\n",
    "            break\n",
    "    last_height = new_height\n",
    "\n",
    "    \n",
    "#이미지 저장 위치 설정\n",
    "folder = \"이미지 저장 경로 설정 \"\n",
    "\n",
    "#위 폴더 없으면 만듦 \n",
    "if not os.path.isdir(folder):\n",
    "   os.mkdir(folder)\n",
    "\n",
    "\n",
    "#Chrome class '안에 find_elements_by_css_selector'함수로 필요한 html구문만 파싱\n",
    "images = driver.find_elements_by_css_selector(\".rg_i.Q4LuWd\")\n",
    "\n",
    "count = 0\n",
    "\n",
    "#해당 태그 xpath 속성 값만 추출, img_url에 하나씩 넣음을 반복 \n",
    "for image in images:\n",
    "    try:\n",
    "        image.click()\n",
    "\n",
    "        #1초 대기 상태, 오류 방지  \n",
    "        time.sleep(1)\n",
    "        imgUrl = driver.find_element_by_xpath('//*[@id=\"Sva75c\"]/div/div/div[3]/div[2]/c-wiz/div/div[1]/div[1]/div[2]/div[1]/a/img').get_attribute(\"src\")\n",
    "        \n",
    "        #urlretrueve() -> url로 표시된 네트워크 객체를 로컬 파일로 복사 \n",
    "        urllib.request.urlretrieve(imgUrl, folder+\"\\\\\" +str(count) +\".jpg\")\n",
    "        count += 1\n",
    "\n",
    "        if count == keywordNumber:\n",
    "            break\n",
    "\n",
    "    except:\n",
    "        pass\n",
    "\n",
    "driver.close()\n",
    "\n"
   ]
  },
  {
   "cell_type": "code",
   "execution_count": 7,
   "metadata": {},
   "outputs": [
    {
     "data": {
      "text/plain": [
       "'C:\\\\Users\\\\csy\\\\Desktop\\\\cloth\\\\Acrylic'"
      ]
     },
     "execution_count": 7,
     "metadata": {},
     "output_type": "execute_result"
    }
   ],
   "source": [
    "import os \n",
    "os.getcwd()\n",
    "os.chdir(\"C:\\\\Users\\\\csy\\\\Desktop\\\\cloth\\\\Acrylic\")\n",
    "os.getcwd()"
   ]
  }
 ],
 "metadata": {
  "interpreter": {
   "hash": "dcfa1c0f9e3cf119034050393f73789a38f5623d0db48de6e43decdd08a07921"
  },
  "kernelspec": {
   "display_name": "Python 3",
   "language": "python",
   "name": "python3"
  },
  "language_info": {
   "codemirror_mode": {
    "name": "ipython",
    "version": 3
   },
   "file_extension": ".py",
   "mimetype": "text/x-python",
   "name": "python",
   "nbconvert_exporter": "python",
   "pygments_lexer": "ipython3",
   "version": "3.9.4"
  }
 },
 "nbformat": 4,
 "nbformat_minor": 4
}
